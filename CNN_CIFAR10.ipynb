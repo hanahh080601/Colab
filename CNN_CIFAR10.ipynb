{
  "nbformat": 4,
  "nbformat_minor": 0,
  "metadata": {
    "colab": {
      "name": "CNN_CIFAR10.ipynb",
      "provenance": [],
      "authorship_tag": "ABX9TyOcsDs0FdD7RdNpbWA9nffk",
      "include_colab_link": true
    },
    "kernelspec": {
      "name": "python3",
      "display_name": "Python 3"
    },
    "language_info": {
      "name": "python"
    }
  },
  "cells": [
    {
      "cell_type": "markdown",
      "metadata": {
        "id": "view-in-github",
        "colab_type": "text"
      },
      "source": [
        "<a href=\"https://colab.research.google.com/github/hanahh080601/Colab/blob/main/CNN_CIFAR10.ipynb\" target=\"_parent\"><img src=\"https://colab.research.google.com/assets/colab-badge.svg\" alt=\"Open In Colab\"/></a>"
      ]
    },
    {
      "cell_type": "markdown",
      "metadata": {
        "id": "946940RNgE4u"
      },
      "source": [
        "# Assignments CNN:\n",
        "- Xây dựng model phân loại các vật trong tập dữ liệu cifar10 (load từ keras)\n",
        "- Kiến trức model: CNN (num=32, act=\"relu\") -> MaxPooling -> CNN (num=64, act=\"relu\") -> MaxPooling -> CNN (num=64 act=\"relu\") -> flatten-> Dense(64, acti=\"relu\") -> Dense(class_number)\n",
        "- Tìm hiểu cách lưu checkpoint\n",
        "- Dùng batchsize"
      ]
    },
    {
      "cell_type": "code",
      "metadata": {
        "id": "_M8ZMmBzaVRc"
      },
      "source": [
        "import numpy as np\n",
        "import matplotlib.pyplot as plt\n",
        "import tensorflow as tf\n",
        "from tensorflow.keras import datasets, layers, models \n",
        "from keras.callbacks import ModelCheckpoint"
      ],
      "execution_count": 15,
      "outputs": []
    },
    {
      "cell_type": "code",
      "metadata": {
        "colab": {
          "base_uri": "https://localhost:8080/"
        },
        "id": "90w8PmYrdLlu",
        "outputId": "8e7a5459-2246-42b0-d907-047159242b24"
      },
      "source": [
        "(X_train, y_train), (X_test, y_test) = tf.keras.datasets.cifar10.load_data()\n",
        "print(X_train.shape)\n",
        "print(X_test.shape)"
      ],
      "execution_count": 2,
      "outputs": [
        {
          "output_type": "stream",
          "name": "stdout",
          "text": [
            "(50000, 32, 32, 3)\n",
            "(10000, 32, 32, 3)\n"
          ]
        }
      ]
    },
    {
      "cell_type": "code",
      "metadata": {
        "colab": {
          "base_uri": "https://localhost:8080/"
        },
        "id": "xZgVE43LjxCs",
        "outputId": "0385e238-a735-44a9-f25e-74037bc63c92"
      },
      "source": [
        "print(X_train[0].shape) # 32 matrix, each has 3 columns and 32 rows\n",
        "y_train = y_train.reshape(-1,)"
      ],
      "execution_count": 3,
      "outputs": [
        {
          "output_type": "stream",
          "name": "stdout",
          "text": [
            "(32, 32, 3)\n"
          ]
        }
      ]
    },
    {
      "cell_type": "code",
      "metadata": {
        "id": "OvoMnXRKkgjV"
      },
      "source": [
        "class_name = [\"airplane\", \"automobile\", \"bird\", \"cat\", \"deer\", \"dog\", \"frog\", \"horse\", \"ship\", \"truck\"]"
      ],
      "execution_count": 4,
      "outputs": []
    },
    {
      "cell_type": "code",
      "metadata": {
        "id": "syALhk6PdZ0l"
      },
      "source": [
        "def plot_sample(X, y, index):\n",
        "  plt.figure(figsize=(5,3))\n",
        "  plt.imshow(X[index])\n",
        "  plt.xlabel(class_name[y[index]])"
      ],
      "execution_count": 5,
      "outputs": []
    },
    {
      "cell_type": "code",
      "metadata": {
        "colab": {
          "base_uri": "https://localhost:8080/",
          "height": 226
        },
        "id": "8TGA0ke6lKZq",
        "outputId": "0a3ea4ee-766c-429b-a1e2-8219d77f0571"
      },
      "source": [
        "plot_sample(X_train, y_train, 13)"
      ],
      "execution_count": 6,
      "outputs": [
        {
          "output_type": "display_data",
          "data": {
            "image/png": "[encoded data removed]",
            "text/plain": [
              "<Figure size 360x216 with 1 Axes>"
            ]
          },
          "metadata": {
            "needs_background": "light"
          }
        }
      ]
    },
    {
      "cell_type": "code",
      "metadata": {
        "id": "L98nm4QWmffl"
      },
      "source": [
        "X_train = X_train / 255\n",
        "X_test = X_test / 255"
      ],
      "execution_count": 7,
      "outputs": []
    },
    {
      "cell_type": "code",
      "metadata": {
        "id": "uiJ_guZqm_2x"
      },
      "source": [
        "model = models.Sequential()\n",
        "#CNN\n",
        "model.add(layers.Conv2D(filters=32, kernel_size=(3,3), input_shape=(32,32,3), activation='relu'))\n",
        "model.add(layers.MaxPool2D(2,2))\n",
        "model.add(layers.Conv2D(filters=64, kernel_size=(3,3), activation='relu'))\n",
        "model.add(layers.MaxPool2D(2,2))\n",
        "model.add(layers.Conv2D(filters=64, kernel_size=(3,3), activation='relu'))\n",
        "#Dense\n",
        "model.add(layers.Flatten())\n",
        "model.add(layers.Dense(64, activation='relu'))\n",
        "model.add(layers.Dense(10, activation='softmax'))"
      ],
      "execution_count": 25,
      "outputs": []
    },
    {
      "cell_type": "code",
      "metadata": {
        "id": "0ryJaDvurckd"
      },
      "source": [
        "model.compile(optimizer='adam', metrics=['accuracy'], loss='sparse_categorical_crossentropy')"
      ],
      "execution_count": 36,
      "outputs": []
    },
    {
      "cell_type": "code",
      "metadata": {
        "id": "Kh5pW8HDrxHN"
      },
      "source": [
        "#model.fit(X_train, y_train, epochs=5)"
      ],
      "execution_count": 10,
      "outputs": []
    },
    {
      "cell_type": "code",
      "metadata": {
        "id": "YKgVJ9bEh3Dj"
      },
      "source": [
        "filepath=\"weights-best-file.hdf5\"\n",
        "checkpoint = ModelCheckpoint(filepath, \n",
        "                             monitor = 'val_accuracy', \n",
        "                             verbose = 1, \n",
        "                             save_best_only = True, \n",
        "                             mode = 'max')\n",
        "\n",
        "callbacks_list = [checkpoint]"
      ],
      "execution_count": 37,
      "outputs": []
    },
    {
      "cell_type": "code",
      "metadata": {
        "id": "WIHU-e-x_-TC"
      },
      "source": [
        "def generator(X_train, y_train, batch_size):\n",
        "  while True:\n",
        "    #shuffle\n",
        "\n",
        "    #load data for each batch\n",
        "    for i in range(0, len(X_train), batch_size):\n",
        "      x_batch = X_train[i: i + batch_size]\n",
        "      y_batch = y_train[i: i + batch_size]\n",
        "      yield x_batch, y_batch"
      ],
      "execution_count": 38,
      "outputs": []
    },
    {
      "cell_type": "code",
      "metadata": {
        "colab": {
          "base_uri": "https://localhost:8080/"
        },
        "id": "Wjb1nn1JFD_3",
        "outputId": "38198dfb-a9ec-4744-84f9-92f3d67e18f5"
      },
      "source": [
        "history = model.fit(generator(X_train, y_train, 10000), epochs=10, callbacks=callbacks_list, batch_size=10000, shuffle=True, steps_per_epoch=len(X_train)//10000)"
      ],
      "execution_count": 40,
      "outputs": [
        {
          "output_type": "stream",
          "name": "stdout",
          "text": [
            "Epoch 1/10\n",
            "5/5 [==============================] - 56s 11s/step - loss: 0.2950 - accuracy: 0.9027\n",
            "WARNING:tensorflow:Can save best model only with val_accuracy available, skipping.\n",
            "Epoch 2/10\n",
            "5/5 [==============================] - 56s 11s/step - loss: 0.2907 - accuracy: 0.9038\n",
            "WARNING:tensorflow:Can save best model only with val_accuracy available, skipping.\n",
            "Epoch 3/10\n",
            "5/5 [==============================] - 56s 11s/step - loss: 0.2864 - accuracy: 0.9063\n",
            "WARNING:tensorflow:Can save best model only with val_accuracy available, skipping.\n",
            "Epoch 4/10\n",
            "5/5 [==============================] - 56s 11s/step - loss: 0.2822 - accuracy: 0.9077\n",
            "WARNING:tensorflow:Can save best model only with val_accuracy available, skipping.\n",
            "Epoch 5/10\n",
            "5/5 [==============================] - 56s 11s/step - loss: 0.2779 - accuracy: 0.9094\n",
            "WARNING:tensorflow:Can save best model only with val_accuracy available, skipping.\n",
            "Epoch 6/10\n",
            "5/5 [==============================] - 56s 11s/step - loss: 0.2737 - accuracy: 0.9114\n",
            "WARNING:tensorflow:Can save best model only with val_accuracy available, skipping.\n",
            "Epoch 7/10\n",
            "5/5 [==============================] - 56s 11s/step - loss: 0.2696 - accuracy: 0.9129\n",
            "WARNING:tensorflow:Can save best model only with val_accuracy available, skipping.\n",
            "Epoch 8/10\n",
            "5/5 [==============================] - 56s 11s/step - loss: 0.2656 - accuracy: 0.9147\n",
            "WARNING:tensorflow:Can save best model only with val_accuracy available, skipping.\n",
            "Epoch 9/10\n",
            "5/5 [==============================] - 56s 11s/step - loss: 0.2616 - accuracy: 0.9160\n",
            "WARNING:tensorflow:Can save best model only with val_accuracy available, skipping.\n",
            "Epoch 10/10\n",
            "5/5 [==============================] - 56s 11s/step - loss: 0.2577 - accuracy: 0.9175\n",
            "WARNING:tensorflow:Can save best model only with val_accuracy available, skipping.\n"
          ]
        }
      ]
    },
    {
      "cell_type": "code",
      "metadata": {
        "colab": {
          "base_uri": "https://localhost:8080/"
        },
        "id": "C337MGGAVaj2",
        "outputId": "4de7615b-3151-4274-af98-dfa34412a41c"
      },
      "source": [
        "model.evaluate(X_test, y_test)"
      ],
      "execution_count": 42,
      "outputs": [
        {
          "output_type": "stream",
          "name": "stdout",
          "text": [
            "313/313 [==============================] - 5s 15ms/step - loss: 0.9572 - accuracy: 0.7352\n"
          ]
        },
        {
          "output_type": "execute_result",
          "data": {
            "text/plain": [
              "[0.957242488861084, 0.7351999878883362]"
            ]
          },
          "metadata": {},
          "execution_count": 42
        }
      ]
    },
    {
      "cell_type": "code",
      "metadata": {
        "colab": {
          "base_uri": "https://localhost:8080/",
          "height": 279
        },
        "id": "-I2U46kDZ8Ow",
        "outputId": "743a809b-f110-4496-86bd-47dae976df50"
      },
      "source": [
        "def plot_loss(history):\n",
        "    plt.plot(history.history['loss'], label='loss')\n",
        "    plt.plot(history.history['accuracy'], label='accuracy')\n",
        "    plt.xlabel('Epoch')\n",
        "    plt.legend()\n",
        "    plt.grid(True)\n",
        "plot_loss(history)"
      ],
      "execution_count": 43,
      "outputs": [
        {
          "output_type": "display_data",
          "data": {
            "image/png": "[encoded data removed]",
            "text/plain": [
              "<Figure size 432x288 with 1 Axes>"
            ]
          },
          "metadata": {
            "needs_background": "light"
          }
        }
      ]
    },
    {
      "cell_type": "code",
      "metadata": {
        "id": "Ujqrh2bOaCZ0"
      },
      "source": [
        "pred = model.predict(X_test)"
      ],
      "execution_count": 47,
      "outputs": []
    },
    {
      "cell_type": "code",
      "metadata": {
        "colab": {
          "base_uri": "https://localhost:8080/",
          "height": 297
        },
        "id": "fuv45USKaagT",
        "outputId": "0a6af002-0b26-4c47-ff54-6f5c5ccfed35"
      },
      "source": [
        "i = int(input(\"Nhập số thứ tự của một ảnh bất kì trong x_test (0 => 9999): \"))\n",
        "plt.imshow(X_test[i].reshape(32,32,3))\n",
        "label = np.argmax(pred[i])\n",
        "plt.xlabel(\"Result: \" + class_name[label])\n",
        "plt.show()"
      ],
      "execution_count": 53,
      "outputs": [
        {
          "name": "stdout",
          "output_type": "stream",
          "text": [
            "Nhập số thứ tự của một ảnh bất kì trong x_test (0 => 9999): 0\n"
          ]
        },
        {
          "output_type": "display_data",
          "data": {
            "image/png": "[encoded data removed]",
            "text/plain": [
              "<Figure size 432x288 with 1 Axes>"
            ]
          },
          "metadata": {
            "needs_background": "light"
          }
        }
      ]
    }
  ]
}