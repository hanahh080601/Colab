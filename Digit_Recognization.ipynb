{
  "nbformat": 4,
  "nbformat_minor": 0,
  "metadata": {
    "colab": {
      "name": "Digit Recognization.ipynb",
      "provenance": [],
      "collapsed_sections": [],
      "include_colab_link": true
    },
    "kernelspec": {
      "name": "python3",
      "display_name": "Python 3"
    },
    "language_info": {
      "name": "python"
    }
  },
  "cells": [
    {
      "cell_type": "markdown",
      "metadata": {
        "id": "view-in-github",
        "colab_type": "text"
      },
      "source": [
        "<a href=\"https://colab.research.google.com/github/hanahh080601/Colab/blob/main/Digit_Recognization.ipynb\" target=\"_parent\"><img src=\"https://colab.research.google.com/assets/colab-badge.svg\" alt=\"Open In Colab\"/></a>"
      ]
    },
    {
      "cell_type": "code",
      "metadata": {
        "id": "pZve8DCLTnKk"
      },
      "source": [
        "import tensorflow as tf\n",
        "import matplotlib.pyplot as plt\n",
        "import numpy as np\n",
        "import cv2"
      ],
      "execution_count": null,
      "outputs": []
    },
    {
      "cell_type": "code",
      "metadata": {
        "id": "UU6cBdY-aCxW",
        "colab": {
          "base_uri": "https://localhost:8080/"
        },
        "outputId": "24dfbfb0-4052-466e-abf7-5fd5c998a44c"
      },
      "source": [
        "(x_train, y_train), (x_test, y_test) = tf.keras.datasets.mnist.load_data()\n",
        "x_train = x_train / 255\n",
        "x_test = x_test / 255\n",
        "print(x_train.shape)\n",
        "print(y_train.shape)"
      ],
      "execution_count": null,
      "outputs": [
        {
          "output_type": "stream",
          "name": "stdout",
          "text": [
            "Downloading data from https://storage.googleapis.com/tensorflow/tf-keras-datasets/mnist.npz\n",
            "11493376/11490434 [==============================] - 0s 0us/step\n",
            "11501568/11490434 [==============================] - 0s 0us/step\n",
            "(60000, 28, 28)\n",
            "(60000,)\n"
          ]
        }
      ]
    },
    {
      "cell_type": "code",
      "metadata": {
        "id": "mmZqKgFBV_Xf"
      },
      "source": [
        "model = tf.keras.models.Sequential()"
      ],
      "execution_count": null,
      "outputs": []
    },
    {
      "cell_type": "code",
      "metadata": {
        "id": "SfqkOg5wXzaF"
      },
      "source": [
        "model.add(tf.keras.layers.Flatten(input_shape = (28,28)))\n",
        "model.add(tf.keras.layers.Dense(128, activation=tf.nn.relu))\n",
        "model.add(tf.keras.layers.Dense(10, activation=tf.nn.softmax))"
      ],
      "execution_count": null,
      "outputs": []
    },
    {
      "cell_type": "code",
      "metadata": {
        "id": "Ng1_ZnC-cIia"
      },
      "source": [
        "model.compile(optimizer='adam', loss='sparse_categorical_crossentropy', metrics=['accuracy'])"
      ],
      "execution_count": null,
      "outputs": []
    },
    {
      "cell_type": "code",
      "metadata": {
        "id": "9qBl0yb4dtLg",
        "colab": {
          "base_uri": "https://localhost:8080/"
        },
        "outputId": "46508725-d987-44b7-a686-516fcd8b9d13"
      },
      "source": [
        "callback = tf.keras.callbacks.EarlyStopping(monitor='loss', patience=3, verbose=2)\n",
        "history = model.fit(x_train, y_train, epochs=50, shuffle=True, callbacks=callback, verbose=2)"
      ],
      "execution_count": null,
      "outputs": [
        {
          "output_type": "stream",
          "name": "stdout",
          "text": [
            "Epoch 1/50\n",
            "1875/1875 - 3s - loss: 0.0451 - accuracy: 0.9852\n",
            "Epoch 2/50\n",
            "1875/1875 - 3s - loss: 0.0191 - accuracy: 0.9932\n",
            "Epoch 3/50\n",
            "1875/1875 - 3s - loss: 0.0173 - accuracy: 0.9941\n",
            "Epoch 4/50\n",
            "1875/1875 - 3s - loss: 0.0148 - accuracy: 0.9950\n",
            "Epoch 5/50\n",
            "1875/1875 - 3s - loss: 0.0150 - accuracy: 0.9952\n",
            "Epoch 6/50\n",
            "1875/1875 - 3s - loss: 0.0140 - accuracy: 0.9952\n",
            "Epoch 7/50\n",
            "1875/1875 - 3s - loss: 0.0117 - accuracy: 0.9957\n",
            "Epoch 8/50\n",
            "1875/1875 - 3s - loss: 0.0100 - accuracy: 0.9968\n",
            "Epoch 9/50\n",
            "1875/1875 - 3s - loss: 0.0093 - accuracy: 0.9973\n",
            "Epoch 10/50\n",
            "1875/1875 - 3s - loss: 0.0096 - accuracy: 0.9971\n",
            "Epoch 11/50\n",
            "1875/1875 - 3s - loss: 0.0104 - accuracy: 0.9963\n",
            "Epoch 12/50\n",
            "1875/1875 - 3s - loss: 0.0073 - accuracy: 0.9975\n",
            "Epoch 13/50\n",
            "1875/1875 - 3s - loss: 0.0073 - accuracy: 0.9977\n",
            "Epoch 14/50\n",
            "1875/1875 - 3s - loss: 0.0074 - accuracy: 0.9977\n",
            "Epoch 15/50\n",
            "1875/1875 - 3s - loss: 0.0094 - accuracy: 0.9968\n",
            "Epoch 00015: early stopping\n"
          ]
        }
      ]
    },
    {
      "cell_type": "code",
      "metadata": {
        "id": "ZJf5l_yB0zc2",
        "colab": {
          "base_uri": "https://localhost:8080/"
        },
        "outputId": "b9d90b74-6c40-4286-a51f-18fb5feef660"
      },
      "source": [
        "model.evaluate(x_test, y_test)"
      ],
      "execution_count": null,
      "outputs": [
        {
          "output_type": "stream",
          "name": "stdout",
          "text": [
            "313/313 [==============================] - 0s 928us/step - loss: 0.1217 - accuracy: 0.9767\n"
          ]
        },
        {
          "output_type": "execute_result",
          "data": {
            "text/plain": [
              "[0.12166300415992737, 0.9767000079154968]"
            ]
          },
          "metadata": {},
          "execution_count": 9
        }
      ]
    },
    {
      "cell_type": "code",
      "metadata": {
        "id": "LBVeVfbq6SC6",
        "colab": {
          "base_uri": "https://localhost:8080/",
          "height": 279
        },
        "outputId": "0fb214ea-8f48-4f6c-a389-8a60cfff44a1"
      },
      "source": [
        "def plot_loss(history):\n",
        "    plt.plot(history.history['loss'], label='loss')\n",
        "    plt.plot(history.history['accuracy'], label='accuracy')\n",
        "    plt.xlabel('Epoch')\n",
        "    plt.legend()\n",
        "    plt.grid(True)\n",
        "plot_loss(history)"
      ],
      "execution_count": null,
      "outputs": [
        {
          "output_type": "display_data",
          "data": {
            "image/png": "[encoded data removed]",
            "text/plain": [
              "<Figure size 432x288 with 1 Axes>"
            ]
          },
          "metadata": {
            "needs_background": "light"
          }
        }
      ]
    },
    {
      "cell_type": "code",
      "metadata": {
        "id": "k9mIh5An7clE"
      },
      "source": [
        "pred = model.predict(x_test)\n",
        "#pred = tf.nn.softmax(pred)"
      ],
      "execution_count": null,
      "outputs": []
    },
    {
      "cell_type": "code",
      "metadata": {
        "id": "44kd8IaZ7jBq",
        "colab": {
          "base_uri": "https://localhost:8080/",
          "height": 296
        },
        "outputId": "07bf4cb0-e63a-4466-823b-d24dcfeea537"
      },
      "source": [
        "i = int(input(\"Nhập số thứ tự của một ảnh bất kì trong x_test (0 => 9999): \"))\n",
        "plt.imshow(x_test[i].reshape(28,28), 'gray')\n",
        "label = np.argmax(pred[i])\n",
        "plt.xlabel(\"Result: \" + str(label))\n",
        "plt.show()"
      ],
      "execution_count": null,
      "outputs": [
        {
          "name": "stdout",
          "output_type": "stream",
          "text": [
            "Nhập số thứ tự của một ảnh bất kì trong x_test (0 => 9999): 12\n"
          ]
        },
        {
          "output_type": "display_data",
          "data": {
            "image/png": "[encoded data removed]",
            "text/plain": [
              "<Figure size 432x288 with 1 Axes>"
            ]
          },
          "metadata": {
            "needs_background": "light"
          }
        }
      ]
    },
    {
      "cell_type": "code",
      "metadata": {
        "colab": {
          "base_uri": "https://localhost:8080/",
          "height": 284
        },
        "id": "9LO97bn6VStz",
        "outputId": "109a7d7f-cff9-485b-a4ff-15cb647d023d"
      },
      "source": [
        "img = cv2.imread(\"digit1.png\", cv2.IMREAD_GRAYSCALE)\n",
        "thresh = 127\n",
        "img_bw = cv2.threshold(img, 0, thresh, 1)[1]\n",
        "plt.imshow(img_bw, 'gray')\n",
        "img_bw = np.expand_dims(img_bw, 2)\n",
        "img_bw = cv2.resize(img_bw, (28,28)).reshape(1,28,28)\n",
        "img_bw = img_bw / 255\n",
        "plt.xlabel(\"Hình ảnh mới xử lí trắng đen\")\n",
        "plt.show()"
      ],
      "execution_count": null,
      "outputs": [
        {
          "output_type": "display_data",
          "data": {
            "image/png": "[encoded data removed]",
            "text/plain": [
              "<Figure size 432x288 with 1 Axes>"
            ]
          },
          "metadata": {
            "needs_background": "light"
          }
        }
      ]
    },
    {
      "cell_type": "code",
      "metadata": {
        "colab": {
          "base_uri": "https://localhost:8080/",
          "height": 280
        },
        "id": "dH3HSaytwI1X",
        "outputId": "a00f769a-ca6a-440d-ef17-c63649fba652"
      },
      "source": [
        "pred = model.predict(img_bw)\n",
        "plt.imshow(img_bw[0].reshape(28,28), 'gray')\n",
        "label = np.argmax(pred[0])\n",
        "plt.xlabel(\"Hình ảnh sau khi resize và đạt Target là: \" + str(label))\n",
        "plt.show()"
      ],
      "execution_count": null,
      "outputs": [
        {
          "output_type": "display_data",
          "data": {
            "image/png": "[encoded data removed]",
            "text/plain": [
              "<Figure size 432x288 with 1 Axes>"
            ]
          },
          "metadata": {
            "needs_background": "light"
          }
        }
      ]
    }
  ]
}